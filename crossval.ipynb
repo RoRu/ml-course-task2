{
 "cells": [
  {
   "cell_type": "code",
   "execution_count": 16,
   "metadata": {
    "executionInfo": {
     "elapsed": 1475,
     "status": "ok",
     "timestamp": 1668805186668,
     "user": {
      "displayName": "Vladimir Yumatov",
      "userId": "16948738955877648130"
     },
     "user_tz": -240
    },
    "id": "LTQVrFD5h5_n"
   },
   "outputs": [],
   "source": [
    "import pandas as pd\n",
    "import numpy as np\n",
    "from sklearn.model_selection import train_test_split\n",
    "from math import inf\n",
    "import seaborn as sns\n",
    "import matplotlib.pyplot as plt\n",
    "from sklearn.feature_selection import SelectKBest, chi2, f_regression, RFECV, mutual_info_regression\n",
    "from sklearn.ensemble import RandomForestRegressor\n",
    "from sklearn.model_selection import StratifiedKFold\n",
    "from sklearn.linear_model import LinearRegression\n",
    "from sklearn.linear_model import Ridge\n",
    "from sklearn.metrics import mean_squared_error\n",
    "from sklearn.preprocessing import StandardScaler\n",
    "from sklearn.metrics import mean_squared_error, r2_score\n",
    "from tabulate import tabulate\n",
    "from sklearn.model_selection import cross_val_score, cross_validate\n",
    "from sklearn.model_selection import GridSearchCV\n",
    "from sklearn.preprocessing import StandardScaler"
   ]
  },
  {
   "cell_type": "code",
   "execution_count": 82,
   "metadata": {
    "colab": {
     "base_uri": "https://localhost:8080/",
     "height": 206
    },
    "executionInfo": {
     "elapsed": 357,
     "status": "ok",
     "timestamp": 1668805188938,
     "user": {
      "displayName": "Vladimir Yumatov",
      "userId": "16948738955877648130"
     },
     "user_tz": -240
    },
    "id": "9_B4jZgkiFW6",
    "outputId": "00f5a680-7ab2-48ad-a627-3a80ec0c9077"
   },
   "outputs": [
    {
     "data": {
      "text/html": [
       "<div>\n",
       "<style scoped>\n",
       "    .dataframe tbody tr th:only-of-type {\n",
       "        vertical-align: middle;\n",
       "    }\n",
       "\n",
       "    .dataframe tbody tr th {\n",
       "        vertical-align: top;\n",
       "    }\n",
       "\n",
       "    .dataframe thead th {\n",
       "        text-align: right;\n",
       "    }\n",
       "</style>\n",
       "<table border=\"1\" class=\"dataframe\">\n",
       "  <thead>\n",
       "    <tr style=\"text-align: right;\">\n",
       "      <th></th>\n",
       "      <th>age</th>\n",
       "      <th>sex</th>\n",
       "      <th>cp</th>\n",
       "      <th>trestbps</th>\n",
       "      <th>chol</th>\n",
       "      <th>fbs</th>\n",
       "      <th>restecg</th>\n",
       "      <th>thalach</th>\n",
       "      <th>exang</th>\n",
       "      <th>oldpeak</th>\n",
       "      <th>slope</th>\n",
       "      <th>ca</th>\n",
       "      <th>thal</th>\n",
       "      <th>target</th>\n",
       "    </tr>\n",
       "  </thead>\n",
       "  <tbody>\n",
       "    <tr>\n",
       "      <th>0</th>\n",
       "      <td>52</td>\n",
       "      <td>1</td>\n",
       "      <td>0</td>\n",
       "      <td>125</td>\n",
       "      <td>212</td>\n",
       "      <td>0</td>\n",
       "      <td>1</td>\n",
       "      <td>168</td>\n",
       "      <td>0</td>\n",
       "      <td>1.0</td>\n",
       "      <td>2</td>\n",
       "      <td>2</td>\n",
       "      <td>3</td>\n",
       "      <td>0</td>\n",
       "    </tr>\n",
       "    <tr>\n",
       "      <th>1</th>\n",
       "      <td>53</td>\n",
       "      <td>1</td>\n",
       "      <td>0</td>\n",
       "      <td>140</td>\n",
       "      <td>203</td>\n",
       "      <td>1</td>\n",
       "      <td>0</td>\n",
       "      <td>155</td>\n",
       "      <td>1</td>\n",
       "      <td>3.1</td>\n",
       "      <td>0</td>\n",
       "      <td>0</td>\n",
       "      <td>3</td>\n",
       "      <td>0</td>\n",
       "    </tr>\n",
       "    <tr>\n",
       "      <th>2</th>\n",
       "      <td>70</td>\n",
       "      <td>1</td>\n",
       "      <td>0</td>\n",
       "      <td>145</td>\n",
       "      <td>174</td>\n",
       "      <td>0</td>\n",
       "      <td>1</td>\n",
       "      <td>125</td>\n",
       "      <td>1</td>\n",
       "      <td>2.6</td>\n",
       "      <td>0</td>\n",
       "      <td>0</td>\n",
       "      <td>3</td>\n",
       "      <td>0</td>\n",
       "    </tr>\n",
       "    <tr>\n",
       "      <th>3</th>\n",
       "      <td>61</td>\n",
       "      <td>1</td>\n",
       "      <td>0</td>\n",
       "      <td>148</td>\n",
       "      <td>203</td>\n",
       "      <td>0</td>\n",
       "      <td>1</td>\n",
       "      <td>161</td>\n",
       "      <td>0</td>\n",
       "      <td>0.0</td>\n",
       "      <td>2</td>\n",
       "      <td>1</td>\n",
       "      <td>3</td>\n",
       "      <td>0</td>\n",
       "    </tr>\n",
       "    <tr>\n",
       "      <th>4</th>\n",
       "      <td>62</td>\n",
       "      <td>0</td>\n",
       "      <td>0</td>\n",
       "      <td>138</td>\n",
       "      <td>294</td>\n",
       "      <td>1</td>\n",
       "      <td>1</td>\n",
       "      <td>106</td>\n",
       "      <td>0</td>\n",
       "      <td>1.9</td>\n",
       "      <td>1</td>\n",
       "      <td>3</td>\n",
       "      <td>2</td>\n",
       "      <td>0</td>\n",
       "    </tr>\n",
       "  </tbody>\n",
       "</table>\n",
       "</div>"
      ],
      "text/plain": [
       "   age  sex  cp  trestbps  chol  fbs  restecg  thalach  exang  oldpeak  slope  \\\n",
       "0   52    1   0       125   212    0        1      168      0      1.0      2   \n",
       "1   53    1   0       140   203    1        0      155      1      3.1      0   \n",
       "2   70    1   0       145   174    0        1      125      1      2.6      0   \n",
       "3   61    1   0       148   203    0        1      161      0      0.0      2   \n",
       "4   62    0   0       138   294    1        1      106      0      1.9      1   \n",
       "\n",
       "   ca  thal  target  \n",
       "0   2     3       0  \n",
       "1   0     3       0  \n",
       "2   0     3       0  \n",
       "3   1     3       0  \n",
       "4   3     2       0  "
      ]
     },
     "execution_count": 82,
     "metadata": {},
     "output_type": "execute_result"
    }
   ],
   "source": [
    "accuracies = dict()\n",
    "\n",
    "df = pd.read_csv(\"heart.csv\")\n",
    "\n",
    "df.head()"
   ]
  },
  {
   "cell_type": "code",
   "execution_count": 75,
   "metadata": {
    "executionInfo": {
     "elapsed": 349,
     "status": "ok",
     "timestamp": 1668805222699,
     "user": {
      "displayName": "Vladimir Yumatov",
      "userId": "16948738955877648130"
     },
     "user_tz": -240
    },
    "id": "yNGCvxTiiPL2"
   },
   "outputs": [],
   "source": [
    "y = df[\"target\"]\n",
    "X = df.drop(columns = \"target\")\n",
    "\n",
    "X_train, X_test, y_train, y_test = train_test_split(X, y, test_size = 1/3, random_state = 54)"
   ]
  },
  {
   "cell_type": "code",
   "execution_count": 76,
   "metadata": {
    "executionInfo": {
     "elapsed": 411,
     "status": "ok",
     "timestamp": 1668805235813,
     "user": {
      "displayName": "Vladimir Yumatov",
      "userId": "16948738955877648130"
     },
     "user_tz": -240
    },
    "id": "Fgt7F9fuiwIp"
   },
   "outputs": [],
   "source": [
    "scaler = StandardScaler()  \n",
    "\n",
    "# масштабируем обучающую выборку и запоминаем среднее, стандартное отклонение признаков\n",
    "X_train_scaled = scaler.fit_transform(X_train)\n",
    "\n",
    "# масштабируем тестовую выборку используя статистики обучающей выборки\n",
    "X_test_scaled = scaler.transform(X_test)\n",
    "\n",
    "X_scaled = scaler.transform(X)"
   ]
  },
  {
   "cell_type": "markdown",
   "metadata": {
    "id": "V7beLD_fjGWP"
   },
   "source": [
    "## Реализация логистической регрессии"
   ]
  },
  {
   "cell_type": "code",
   "execution_count": 112,
   "metadata": {
    "executionInfo": {
     "elapsed": 380,
     "status": "ok",
     "timestamp": 1668805503275,
     "user": {
      "displayName": "Vladimir Yumatov",
      "userId": "16948738955877648130"
     },
     "user_tz": -240
    },
    "id": "h2waF1VDjO4Z"
   },
   "outputs": [],
   "source": [
    "import warnings\n",
    "import warnings\n",
    "from scipy.special import softmax\n",
    "from sklearn.preprocessing import OneHotEncoder\n",
    "\n",
    "\n",
    "class MyLogReg:\n",
    "    def __init__(self, learning_rate=0.01, epochs=250, l2=0.01, random_seed=59):\n",
    "        self.__weights = []\n",
    "        self.learning_rate = learning_rate\n",
    "        self.epochs = epochs\n",
    "        self.random_seed = random_seed\n",
    "        self.l2 = l2\n",
    "\n",
    "    def getWeights(self):\n",
    "        return self.__weights\n",
    "\n",
    "    def __sigmoid(self, z):\n",
    "        warnings.filterwarnings('ignore')\n",
    "        return 1 / (1 + np.exp(-z))\n",
    "\n",
    "    def fit(self, X, y):\n",
    "        \n",
    "        samples, _ = np.shape(X)\n",
    "        \n",
    "        features = np.c_[np.ones(samples), X]\n",
    "        y_encode = OneHotEncoder(sparse=False).fit_transform(y.values.reshape(-1,1))\n",
    "        np.random.seed(self.random_seed)\n",
    "        weights = np.random.random_sample((features.shape[1], y_encode.shape[1]))\n",
    "        \n",
    "\n",
    "#         for epoch in range(self.epochs):\n",
    "#             z = X_full @ weights\n",
    "#             h = self.__sigmoid(z)\n",
    "#             gradient = (X_full.T @ (h - y)) / y.size\n",
    "#             weights -= self.learning_rate * gradient\n",
    "            \n",
    "        for epoch in range(self.epochs):\n",
    "            z = features @ weights\n",
    "            h = softmax(-z, axis=1)\n",
    "            error = y_encode - h\n",
    "            gradient = 1 / samples * (features.T @ error) + 2 * self.l2 * weights\n",
    "            weights -= self.learning_rate * gradient\n",
    "\n",
    "        self.__weights = weights\n",
    "        return self\n",
    "    \n",
    "    def score(self, X, y):\n",
    "        return (self.predict(X) == y).mean()\n",
    "    \n",
    "    # function name needed by GridSearch \n",
    "    def predict_proba(self, X):\n",
    "        features=np.c_[np.ones(X.shape[0]), X]\n",
    "        return np.argmax(softmax(-features @ self.__weights, axis=1) ,axis=1)\n",
    "\n",
    "    def predict(self, X):\n",
    "        return self.predict_proba(X).astype(np.float64)\n",
    "\n",
    "    def get_params(self, deep=False):\n",
    "        return {\n",
    "            \"learning_rate\": self.learning_rate,\n",
    "            \"epochs\": self.epochs,\n",
    "            \"random_seed\": self.random_seed,\n",
    "            \"l2\": self.l2,\n",
    "        }\n",
    "\n",
    "    def set_params(self, **parameters):\n",
    "        for parameter, value in parameters.items():\n",
    "            setattr(self, parameter, value)\n",
    "        return self"
   ]
  },
  {
   "cell_type": "code",
   "execution_count": 115,
   "metadata": {
    "colab": {
     "base_uri": "https://localhost:8080/",
     "height": 680
    },
    "executionInfo": {
     "elapsed": 374,
     "status": "error",
     "timestamp": 1668806003655,
     "user": {
      "displayName": "Vladimir Yumatov",
      "userId": "16948738955877648130"
     },
     "user_tz": -240
    },
    "id": "3jiN6BBijdG-",
    "outputId": "ed7737ee-7e6f-4824-806c-1d0eb60cc119"
   },
   "outputs": [
    {
     "name": "stdout",
     "output_type": "stream",
     "text": [
      "CPU times: user 2.21 s, sys: 158 ms, total: 2.37 s\n",
      "Wall time: 2min 3s\n",
      "====================\n",
      "best params: {'epochs': 20000, 'l2': 0.001, 'learning_rate': 0.01}\n",
      "best score: 0.8418527264920567\n",
      "====================\n"
     ]
    }
   ],
   "source": [
    "param_grid = {\n",
    "    'learning_rate': [0.00001, 0.0001, 0.001, 0.01], \n",
    "    'epochs':        [2000, 20000, 200000], \n",
    "    'l2':            [0.1, .001, .0001]\n",
    "}\n",
    "\n",
    "gs = GridSearchCV(MyLogReg(), return_train_score=True, error_score='raise',\n",
    "                  param_grid=param_grid, scoring='accuracy', cv=5, n_jobs=-1)\n",
    "\n",
    "%time gs.fit(X_train_scaled, y_train)\n",
    "\n",
    "print('='*20)\n",
    "print(\"best params: \" + str(gs.best_params_))\n",
    "print('best score:', gs.best_score_)\n",
    "print('='*20)\n",
    "\n",
    "# best params: {'epochs': 20000, 'l2': 0.0001, 'learning_rate': 0.01}\n",
    "# best score: 0.8476699770817417"
   ]
  },
  {
   "cell_type": "code",
   "execution_count": 116,
   "metadata": {
    "id": "n7zFnhV4j-UN"
   },
   "outputs": [
    {
     "data": {
      "text/plain": [
       "<__main__.MyLogReg at 0x7f788c3dad40>"
      ]
     },
     "execution_count": 116,
     "metadata": {},
     "output_type": "execute_result"
    }
   ],
   "source": [
    "model_lr = MyLogReg(**gs.best_params_)\n",
    "model_lr.fit(X_train_scaled, y_train)"
   ]
  },
  {
   "cell_type": "code",
   "execution_count": 117,
   "metadata": {},
   "outputs": [
    {
     "data": {
      "text/plain": [
       "0.8508771929824561"
      ]
     },
     "execution_count": 117,
     "metadata": {},
     "output_type": "execute_result"
    }
   ],
   "source": [
    "acc = model_lr.score(X_test_scaled, y_test)\n",
    "accuracies['MyLogReg'] = acc\n",
    "acc"
   ]
  },
  {
   "cell_type": "markdown",
   "metadata": {},
   "source": [
    "## Реализация KNN"
   ]
  },
  {
   "cell_type": "code",
   "execution_count": 79,
   "metadata": {},
   "outputs": [],
   "source": [
    "# Euclidean distance\n",
    "def default_distance(point, data):\n",
    "    return np.sqrt(np.sum((point - data) ** 2, axis=1))\n",
    "\n",
    "class MyKNN:\n",
    "    def __init__(self, k_neighbors=5, dist_func=None):\n",
    "        self.k_neighbors = k_neighbors\n",
    "        self.dist_func = default_distance if dist_func is None else dist_func\n",
    "\n",
    "    def __most_common(self, lst):\n",
    "        return max(lst, key=lst.count)\n",
    "\n",
    "    \n",
    "\n",
    "    def score(self, X, y):\n",
    "        return (self.predict(X) == y).mean()\n",
    "\n",
    "    def fit(self, X, y):\n",
    "        self.X_train = X\n",
    "        self.y_train = y\n",
    "        self.k_neighbors = min(self.k_neighbors, np.shape(X)[0])\n",
    "\n",
    "        return self\n",
    "\n",
    "    def predict_proba(self, X):\n",
    "        return self.predict(X).astype(np.float64)\n",
    "\n",
    "    def predict(self, X):\n",
    "        neighbors = []\n",
    "        for point in X:\n",
    "            distances = self.dist_func(point, self.X_train)\n",
    "            y_sorted = [y for _, y in sorted(zip(distances, self.y_train))]\n",
    "            neighbors.append(y_sorted[:self.k_neighbors])\n",
    "\n",
    "        return np.array(list(map(self.__most_common, neighbors)))\n",
    "\n",
    "    def get_params(self, deep=False):\n",
    "        return {\n",
    "            \"k_neighbors\": self.k_neighbors,\n",
    "            \"dist_func\": self.dist_func,\n",
    "        }\n",
    "\n",
    "    def set_params(self, **parameters):\n",
    "        for parameter, value in parameters.items():\n",
    "            setattr(self, parameter, value)\n",
    "        return self"
   ]
  },
  {
   "cell_type": "code",
   "execution_count": 90,
   "metadata": {},
   "outputs": [
    {
     "name": "stdout",
     "output_type": "stream",
     "text": [
      "CPU times: user 258 ms, sys: 9.72 ms, total: 268 ms\n",
      "Wall time: 1.78 s\n",
      "====================\n",
      "best params:  {'k_neighbors': 1}\n",
      "best score: 0.9663267496779735\n",
      "test score: 0.9912280701754386\n",
      "====================\n"
     ]
    }
   ],
   "source": [
    "param_grid = {'k_neighbors': np.arange(1, 20, 1)}\n",
    "\n",
    "my_knn = MyKNN()\n",
    "\n",
    "gs = GridSearchCV(my_knn, return_train_score=True, error_score='raise',\n",
    "                  param_grid=param_grid, scoring='accuracy', cv=5, n_jobs=-1)\n",
    "\n",
    "%time gs.fit(X_train_scaled, y_train)\n",
    "my_knn.set_params(**gs.best_params_)\n",
    "my_knn.fit(X_train_scaled, y_train)\n",
    "acc = my_knn.score(X_test_scaled, y_test)\n",
    "accuracies['MyKNN'] = acc\n",
    "\n",
    "print('='*20)\n",
    "print(\"best params: \", gs.best_params_)\n",
    "print('best score:', gs.best_score_)\n",
    "print('test score:', acc)\n",
    "print('='*20)\n",
    "\n",
    "# best params: {'epochs': 500000, 'learning_rate': 0.0001}\n",
    "# best score: 0.853658536585366"
   ]
  },
  {
   "cell_type": "markdown",
   "metadata": {
    "id": "bxFI4YxVkjSO"
   },
   "source": [
    "### Гиперпараметры для библиотечных методов"
   ]
  },
  {
   "cell_type": "code",
   "execution_count": 85,
   "metadata": {
    "id": "4xoJveMdkndt"
   },
   "outputs": [
    {
     "name": "stdout",
     "output_type": "stream",
     "text": [
      "====================\n",
      "best params:  {'C': 0.20001000000000002}\n",
      "best score: 0.8447509660798627\n",
      "test score: 0.847953216374269\n",
      "====================\n"
     ]
    }
   ],
   "source": [
    "# logreg\n",
    "\n",
    "from sklearn.linear_model import LogisticRegression\n",
    "\n",
    "param_grid = {'C': np.arange(1e-05, 5, 0.1)}\n",
    "scoring = {'Accuracy': 'accuracy', 'AUC': 'roc_auc', 'Log_loss': 'neg_log_loss'}\n",
    "\n",
    "log_reg = LogisticRegression()\n",
    "\n",
    "gs = GridSearchCV(log_reg, return_train_score=True,\n",
    "                  param_grid=param_grid, scoring=scoring, cv=5, refit='Accuracy')\n",
    "\n",
    "gs.fit(X_train_scaled, y_train)\n",
    "log_reg.set_params(**gs.best_params_)\n",
    "log_reg.fit(X_train_scaled, y_train)\n",
    "\n",
    "acc = log_reg.score(X_test_scaled, y_test)\n",
    "accuracies['LogReg'] = acc\n",
    "\n",
    "print('='*20)\n",
    "print(\"best params: \", gs.best_params_)\n",
    "print('best score:', gs.best_score_)\n",
    "print('test score:', acc)\n",
    "print('='*20)"
   ]
  },
  {
   "cell_type": "code",
   "execution_count": 86,
   "metadata": {
    "id": "u5yynWnllduH"
   },
   "outputs": [
    {
     "name": "stdout",
     "output_type": "stream",
     "text": [
      "====================\n",
      "best params: {'n_neighbors': 8, 'weights': 'distance'}\n",
      "best score: 0.9736367539716617\n",
      "test score: 0.9912280701754386\n",
      "====================\n"
     ]
    }
   ],
   "source": [
    "# KNN\n",
    "\n",
    "from sklearn.neighbors import KNeighborsClassifier\n",
    "\n",
    "n_neighbors = np.arange(1, 10, 1)\n",
    "weights = ['uniform', 'distance']\n",
    "\n",
    "knn = KNeighborsClassifier()\n",
    "\n",
    "gs = GridSearchCV(knn, cv=5,\n",
    "              scoring=scoring, return_train_score=True,\n",
    "              param_grid=dict(n_neighbors=n_neighbors, weights=weights), refit='Accuracy')\n",
    "\n",
    "gs.fit(X_train_scaled, y_train)\n",
    "knn.set_params(**gs.best_params_)\n",
    "knn.fit(X_train_scaled, y_train)\n",
    "\n",
    "acc = knn.score(X_test_scaled, y_test)\n",
    "accuracies['KNN'] = acc\n",
    "\n",
    "print('='*20)\n",
    "print(\"best params: \" + str(gs.best_params_))\n",
    "print('best score:', gs.best_score_)\n",
    "print('test score:', acc)\n",
    "print('='*20)"
   ]
  },
  {
   "cell_type": "code",
   "execution_count": 87,
   "metadata": {},
   "outputs": [
    {
     "name": "stdout",
     "output_type": "stream",
     "text": [
      "====================\n",
      "best params: {'var_smoothing': 0.657933224657568}\n",
      "best score: 0.8242915414340919\n",
      "test score: 0.827485380116959\n",
      "====================\n"
     ]
    }
   ],
   "source": [
    "# naive bayes\n",
    "\n",
    "from sklearn.naive_bayes import GaussianNB\n",
    "\n",
    "var_smoothing = np.logspace(0, -9, num=100)\n",
    "\n",
    "nb = GaussianNB()\n",
    "\n",
    "gs = GridSearchCV(nb, cv=5, return_train_score=True,\n",
    "              param_grid=dict(var_smoothing=var_smoothing), scoring=scoring, refit='Accuracy')\n",
    "\n",
    "gs.fit(X_train_scaled, y_train)\n",
    "nb.set_params(**gs.best_params_)\n",
    "nb.fit(X_train_scaled, y_train)\n",
    "\n",
    "acc = nb.score(X_test_scaled, y_test)\n",
    "accuracies['Naive Bayes'] = acc\n",
    "\n",
    "print('='*20)\n",
    "print(\"best params: \" + str(gs.best_params_))\n",
    "print('best score:', gs.best_score_)\n",
    "print('test score:', acc)\n",
    "print('='*20)"
   ]
  },
  {
   "cell_type": "code",
   "execution_count": 88,
   "metadata": {},
   "outputs": [
    {
     "name": "stdout",
     "output_type": "stream",
     "text": [
      "CPU times: user 3.36 s, sys: 194 ms, total: 3.56 s\n",
      "Wall time: 7.74 s\n",
      "====================\n",
      "best params: {'criterion': 'entropy', 'max_depth': 14, 'max_features': 4, 'min_samples_leaf': 1, 'min_samples_split': 2, 'splitter': 'random'}\n",
      "best score: 0.9751180764276514\n",
      "test score: 0.9912280701754386\n",
      "====================\n"
     ]
    }
   ],
   "source": [
    "# decision tree\n",
    "\n",
    "from sklearn.tree import DecisionTreeClassifier\n",
    "\n",
    "criterion = [\"gini\", \"entropy\", \"log_loss\"]\n",
    "splitter = [\"best\", \"random\"]\n",
    "max_depth = np.arange(2, 20, 2)\n",
    "min_samples_split = np.arange(2, 10, 2)\n",
    "min_samples_leaf = np.arange(1, 8, 2)\n",
    "max_features = np.arange(2, 8, 2)\n",
    "\n",
    "decision_tree = DecisionTreeClassifier(random_state=17)\n",
    "gs = GridSearchCV(decision_tree, cv=5, return_train_score=True,\n",
    "        param_grid=dict(criterion=criterion,splitter=splitter, max_depth=max_depth,\n",
    "                        min_samples_split=min_samples_split, min_samples_leaf=min_samples_leaf,\n",
    "                        max_features=max_features), scoring=scoring, refit='Accuracy', n_jobs=-1)\n",
    "%time gs.fit(X_train_scaled, y_train)\n",
    "\n",
    "decision_tree.set_params(**gs.best_params_)\n",
    "decision_tree.fit(X_train_scaled, y_train)\n",
    "\n",
    "acc = knn.score(X_test_scaled, y_test)\n",
    "accuracies['DecisionTree'] = acc\n",
    "\n",
    "print('='*20)\n",
    "print(\"best params: \" + str(gs.best_params_))\n",
    "print('best score:', gs.best_score_)\n",
    "print('test score:', acc)\n",
    "print('='*20)"
   ]
  },
  {
   "cell_type": "code",
   "execution_count": 93,
   "metadata": {},
   "outputs": [
    {
     "name": "stdout",
     "output_type": "stream",
     "text": [
      "CPU times: user 218 ms, sys: 12.4 ms, total: 230 ms\n",
      "Wall time: 626 ms\n",
      "====================\n",
      "best params: {'C': 2, 'gamma': 1, 'kernel': 'rbf'}\n",
      "best score: 0.9531665951051952\n",
      "test score: 0.9912280701754386\n",
      "====================\n"
     ]
    }
   ],
   "source": [
    "# SVM\n",
    "\n",
    "from sklearn.svm import SVC\n",
    "\n",
    "C = [0.1, 0.25, 0.5, 0.75, 1, 2]\n",
    "kernel = [\"linear\", \"rbf\"]\n",
    "gamma = [\"scale\", \"auto\", 0.0001, 0.001, 0.01, 0.1, 1]\n",
    "\n",
    "svm = SVC(random_state=0)\n",
    "gs = GridSearchCV(svm, cv=5, return_train_score=True,\n",
    "        param_grid=dict(kernel=kernel,C=C, gamma=gamma), n_jobs=-1)\n",
    "%time gs.fit(X_train_scaled, y_train)\n",
    "\n",
    "svm.set_params(**gs.best_params_)\n",
    "svm.fit(X_train_scaled, y_train)\n",
    "\n",
    "acc = svm.score(X_test_scaled, y_test)\n",
    "accuracies['SVM'] = acc\n",
    "\n",
    "print('='*20)\n",
    "print(\"best params: \" + str(gs.best_params_))\n",
    "print('best score:', gs.best_score_)\n",
    "print('test score:', acc)\n",
    "print('='*20)"
   ]
  },
  {
   "cell_type": "markdown",
   "metadata": {},
   "source": [
    "## Сравнение моделей"
   ]
  },
  {
   "cell_type": "code",
   "execution_count": 94,
   "metadata": {},
   "outputs": [
    {
     "data": {
      "image/png": "[encoded data removed]",
      "text/plain": [
       "<Figure size 1600x500 with 1 Axes>"
      ]
     },
     "metadata": {},
     "output_type": "display_data"
    }
   ],
   "source": [
    "# colors = [\"purple\", \"green\", \"orange\", \"magenta\", \"blue\"]\n",
    "\n",
    "sns.set_style(\"whitegrid\")\n",
    "plt.figure(figsize=(16, 5))\n",
    "plt.yticks(np.arange(0, 1.1, 0.1))\n",
    "plt.ylabel(\"Accuracy\")\n",
    "plt.xlabel(\"Algorithms\")\n",
    "sns.barplot(x=list(accuracies.keys()), y=list(accuracies.values()))\n",
    "plt.show()"
   ]
  },
  {
   "cell_type": "markdown",
   "metadata": {},
   "source": [
    "## Confusion Matrix"
   ]
  },
  {
   "cell_type": "code",
   "execution_count": 95,
   "metadata": {},
   "outputs": [],
   "source": [
    "y_head_lr = log_reg.predict(X_test_scaled)\n",
    "y_head_knn = knn.predict(X_test_scaled)\n",
    "y_head_svm = svm.predict(X_test_scaled)\n",
    "y_head_nb = nb.predict(X_test_scaled)\n",
    "y_head_decision_tree = decision_tree.predict(X_test_scaled)\n",
    "y_head_mylr = my_log_reg.predict(X_test_scaled)\n",
    "y_head_myknn = my_knn.predict(X_test_scaled)"
   ]
  },
  {
   "cell_type": "code",
   "execution_count": 96,
   "metadata": {},
   "outputs": [],
   "source": [
    "from sklearn.metrics import confusion_matrix\n",
    "\n",
    "cm_lr = confusion_matrix(y_test, y_head_lr)\n",
    "cm_knn = confusion_matrix(y_test, y_head_knn)\n",
    "cm_svm = confusion_matrix(y_test, y_head_svm)\n",
    "cm_nb = confusion_matrix(y_test, y_head_nb)\n",
    "cm_decision_tree = confusion_matrix(y_test, y_head_decision_tree)\n",
    "cm_mylr = confusion_matrix(y_test, y_head_mylr)\n",
    "cm_myknn = confusion_matrix(y_test, y_head_myknn)"
   ]
  },
  {
   "cell_type": "code",
   "execution_count": 102,
   "metadata": {},
   "outputs": [
    {
     "data": {
      "image/png": "[encoded data removed]",
      "text/plain": [
       "<Figure size 2400x1800 with 7 Axes>"
      ]
     },
     "metadata": {},
     "output_type": "display_data"
    }
   ],
   "source": [
    "plt.figure(figsize=(24, 18))\n",
    "\n",
    "plt.suptitle(\"Confusion Matrices\", fontsize=24)\n",
    "plt.subplots_adjust(wspace = 0.4, hspace= 0.4)\n",
    "\n",
    "plt.subplot(3,3,1)\n",
    "plt.title(\"Logistic Regression Confusion Matrix\")\n",
    "sns.heatmap(cm_lr,annot=True,cmap=\"Blues\",fmt=\"d\",cbar=False, annot_kws={\"size\": 24})\n",
    "\n",
    "plt.subplot(3,3,2)\n",
    "plt.title(\"K Nearest Neighbors Confusion Matrix\")\n",
    "sns.heatmap(cm_knn,annot=True,cmap=\"Blues\",fmt=\"d\",cbar=False, annot_kws={\"size\": 24})\n",
    "\n",
    "plt.subplot(3,3,3)\n",
    "plt.title(\"Support Vector Machine Confusion Matrix\")\n",
    "sns.heatmap(cm_svm,annot=True,cmap=\"Blues\",fmt=\"d\",cbar=False, annot_kws={\"size\": 24})\n",
    "\n",
    "plt.subplot(3,3,4)\n",
    "plt.title(\"Naive Bayes Confusion Matrix\")\n",
    "sns.heatmap(cm_nb,annot=True,cmap=\"Blues\",fmt=\"d\",cbar=False, annot_kws={\"size\": 24})\n",
    "\n",
    "plt.subplot(3,3,5)\n",
    "plt.title(\"Decision Tree Classifier Confusion Matrix\")\n",
    "sns.heatmap(cm_decision_tree,annot=True,cmap=\"Blues\",fmt=\"d\",cbar=False, annot_kws={\"size\": 24})\n",
    "\n",
    "plt.subplot(3,3,6)\n",
    "plt.title(\"MyLogReg Classifier Confusion Matrix\")\n",
    "sns.heatmap(cm_mylr,annot=True,cmap=\"Blues\",fmt=\"d\",cbar=False, annot_kws={\"size\": 24})\n",
    "\n",
    "plt.subplot(3,3,7)\n",
    "plt.title(\"MyKnn Classifier Confusion Matrix\")\n",
    "sns.heatmap(cm_myknn,annot=True,cmap=\"Blues\",fmt=\"d\",cbar=False, annot_kws={\"size\": 24})\n",
    "\n",
    "plt.show()"
   ]
  },
  {
   "cell_type": "code",
   "execution_count": null,
   "metadata": {},
   "outputs": [],
   "source": []
  }
 ],
 "metadata": {
  "colab": {
   "authorship_tag": "ABX9TyOyWlEE4nVYEdAYEDwl8HXx",
   "provenance": []
  },
  "kernelspec": {
   "display_name": "Python 3 (ipykernel)",
   "language": "python",
   "name": "python3"
  },
  "language_info": {
   "codemirror_mode": {
    "name": "ipython",
    "version": 3
   },
   "file_extension": ".py",
   "mimetype": "text/x-python",
   "name": "python",
   "nbconvert_exporter": "python",
   "pygments_lexer": "ipython3",
   "version": "3.10.8"
  }
 },
 "nbformat": 4,
 "nbformat_minor": 1
}
